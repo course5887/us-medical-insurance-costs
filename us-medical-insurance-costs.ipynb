{
 "cells": [
  {
   "cell_type": "markdown",
   "metadata": {},
   "source": [
    "# U.S. Medical Insurance Costs"
   ]
  },
  {
   "cell_type": "code",
   "execution_count": 1,
   "metadata": {},
   "outputs": [],
   "source": [
    "import csv\n",
    "\n",
    "with open('insurance.csv') as insurance_analysis:\n",
    "    insurance_reader = csv.DictReader(insurance_analysis)\n",
    "    #Saving the dataset in a list so that it can be used for later, with all of the individual records stored as dictionaries\n",
    "    insurance_dict = [row for row in insurance_reader]"
   ]
  },
  {
   "cell_type": "code",
   "execution_count": 2,
   "metadata": {},
   "outputs": [
    {
     "name": "stdout",
     "output_type": "stream",
     "text": [
      "(159, 605)\n"
     ]
    }
   ],
   "source": [
    "#Creating a function to see whether there is a connection between an individual who smokes and that same individual having children.\n",
    "def smoker_children_link(insurance_dict):\n",
    "    #Defining two different counts that refer to smokers and non-smokers, respectively.\n",
    "    smoker_count = 0\n",
    "    non_smoker_count = 0\n",
    "    num_records = len(insurance_dict)\n",
    "    for record in range(num_records):\n",
    "        current_record = insurance_dict[record]\n",
    "        if current_record['smoker'] == 'yes':\n",
    "            if int(current_record['children']) > 0:\n",
    "                smoker_count += 1\n",
    "        if current_record['smoker'] == 'no':\n",
    "            if int(current_record['children']) > 0:\n",
    "                non_smoker_count += 1\n",
    "    #For each instance of a smoker or non-smoker, the for loop adds each instance of each smoker/non-smoker to their respective count, whether they had children.\n",
    "    return smoker_count, non_smoker_count\n",
    "\n",
    "link = smoker_children_link(insurance_dict)\n",
    "print(link)\n",
    "#The results should show that from the data, those who do smoke are less likely to have children."
   ]
  },
  {
   "cell_type": "code",
   "execution_count": 3,
   "metadata": {},
   "outputs": [
    {
     "name": "stdout",
     "output_type": "stream",
     "text": [
      "1\n"
     ]
    }
   ],
   "source": [
    "#This function calculates the average number of children from all of the patients in the data.\n",
    "def avg_children(insurance_dict):\n",
    "    #Calculating the average number of children all patients had in the data provided.\n",
    "    total_child = 0\n",
    "    num_records = len(insurance_dict)\n",
    "    for record in range(num_records):\n",
    "        current_record = insurance_dict[record]\n",
    "        total_child += int(current_record['children'])\n",
    "    #The for loop adds each children of patients to the total_child variable.\n",
    "    return total_child / len(insurance_dict)\n",
    "\n",
    "average = avg_children(insurance_dict)\n",
    "print(int(average))\n",
    "#With the data provided, the average number of children each patient had was 1 child."
   ]
  },
  {
   "cell_type": "code",
   "execution_count": null,
   "metadata": {},
   "outputs": [],
   "source": []
  },
  {
   "cell_type": "code",
   "execution_count": null,
   "metadata": {},
   "outputs": [],
   "source": []
  },
  {
   "cell_type": "code",
   "execution_count": null,
   "metadata": {},
   "outputs": [],
   "source": []
  }
 ],
 "metadata": {
  "kernelspec": {
   "display_name": "Python 3 (ipykernel)",
   "language": "python",
   "name": "python3"
  },
  "language_info": {
   "codemirror_mode": {
    "name": "ipython",
    "version": 3
   },
   "file_extension": ".py",
   "mimetype": "text/x-python",
   "name": "python",
   "nbconvert_exporter": "python",
   "pygments_lexer": "ipython3",
   "version": "3.11.3"
  }
 },
 "nbformat": 4,
 "nbformat_minor": 4
}
